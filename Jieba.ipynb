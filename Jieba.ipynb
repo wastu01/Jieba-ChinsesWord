{
 "cells": [
  {
   "cell_type": "code",
   "execution_count": 9,
   "metadata": {},
   "outputs": [
    {
     "name": "stderr",
     "output_type": "stream",
     "text": [
      "Building prefix dict from /Users/larry/Documents/Python3/文字雲/dict.txt.big.txt ...\n",
      "Loading model from cache /var/folders/2p/qz_90rqs1fx0_vgnt2xgf6yw0000gn/T/jieba.u7f62f53dc9d5bb174ce2184df2558447.cache\n",
      "Loading model cost 0.376 seconds.\n",
      "Prefix dict has been built succesfully.\n"
     ]
    },
    {
     "name": "stdout",
     "output_type": "stream",
     "text": [
      "停用詞：『|』|，|。\n",
      "我/來自/國立台中教育大學/，\n",
      "就讀/數位系\n",
      "我/喜歡/出國/旅遊/，\n",
      "關心/社會/時事/。\n",
      "---------------\n",
      "我來/來自/國立/國立台中教育大學/台中/中教/教育/大學//\n",
      "就讀/數位/數位系\n",
      "我/喜歡/出國/國旅/旅遊//\n",
      "關心/社會/時事//\n",
      "---------------\n",
      "我/來自/國立/台中/中教/教育/大學/國立台中教育大學/，\n",
      "就讀/數位/數位系\n",
      "我/喜歡/出國/旅遊/，\n",
      "關心/社會/時事/。\n"
     ]
    }
   ],
   "source": [
    "import jieba\n",
    "\n",
    "jieba.set_dictionary('dict.txt.big.txt')\n",
    "\n",
    "jieba.load_userdict('user_dict.txt')\n",
    "\n",
    "with open('stopword.txt','r', encoding='utf-8-sig') as file:\n",
    "    swds = file.read().split('\\n')\n",
    "print(\"停用詞：\"+'|' . join(swds))\n",
    "\n",
    "\n",
    "\n",
    "\n",
    "documents = ['我來自國立台中教育大學，','就讀數位系', '我喜歡出國旅遊，', '關心社會時事。']\n",
    "# 精確模式 預設 false\n",
    "for sentence in documents:\n",
    "    seg_list = jieba.cut(sentence)\n",
    "    print('/'.join(seg_list))\n",
    "\n",
    "print('---------------')\n",
    "\n",
    "# 全模式\n",
    "for sentence in documents:\n",
    "    seg_list = jieba.cut(sentence, cut_all=True)\n",
    "    print('/'.join(seg_list))\n",
    "\n",
    "print('---------------')\n",
    "\n",
    "# 搜索引擎模式\n",
    "for sentence in documents:\n",
    "    seg_list = jieba.cut_for_search(sentence)\n",
    "    print('/'.join(seg_list))\n",
    "\n",
    "\n"
   ]
  },
  {
   "cell_type": "code",
   "execution_count": 10,
   "metadata": {},
   "outputs": [
    {
     "name": "stdout",
     "output_type": "stream",
     "text": [
      "word: 檢疫 tf-idf: 0.47819070011599996\n",
      "word: 期滿 tf-idf: 0.47819070011599996\n",
      "word: 入境 tf-idf: 0.36321584345479996\n",
      "word: 指揮 tf-idf: 0.3187938000773333\n",
      "word: 分別 tf-idf: 0.3187938000773333\n"
     ]
    }
   ],
   "source": [
    "import jieba.analyse\n",
    "news = '中央流行疫情指揮中心今日宣布，國內新增2例武漢肺炎（新型冠狀病毒病，COVID-19）境外移入，分別為分別自菲律賓及美國入境。指揮中心發言人莊人祥表示，案549為20多歲菲律賓籍女性，因工作於今年9月30日入境台灣，搭機前3日內檢驗陰性，入境時至集中檢疫期滿均無症狀，10月13日檢疫期滿前採檢結果為陰性，檢疫期滿後由仲介安排至隔離宿舍進行自主健康管理，並於10月22由仲介安排至醫院自費檢驗，於今日確診，目前住院隔離中。'\n",
    "tags = jieba.analyse.extract_tags(news, topK=5, withWeight=True)\n",
    "\n",
    "# 引用文字來源 ：https://news.ltn.com.tw/news/life/breakingnews/3331012\n",
    "\n",
    "for tag in tags:\n",
    "    print('word:', tag[0], 'tf-idf:', tag[1])\n",
    "# 程式參考來源： https://blog.kennycoder.io/categories/Python/\n"
   ]
  },
  {
   "cell_type": "code",
   "execution_count": null,
   "metadata": {},
   "outputs": [],
   "source": []
  }
 ],
 "metadata": {
  "kernelspec": {
   "display_name": "Python 3",
   "language": "python",
   "name": "python3"
  },
  "language_info": {
   "codemirror_mode": {
    "name": "ipython",
    "version": 3
   },
   "file_extension": ".py",
   "mimetype": "text/x-python",
   "name": "python",
   "nbconvert_exporter": "python",
   "pygments_lexer": "ipython3",
   "version": "3.8.3"
  }
 },
 "nbformat": 4,
 "nbformat_minor": 4
}
